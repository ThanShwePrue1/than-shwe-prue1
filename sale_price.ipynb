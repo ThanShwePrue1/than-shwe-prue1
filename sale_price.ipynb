{
  "nbformat": 4,
  "nbformat_minor": 0,
  "metadata": {
    "colab": {
      "name": "sale_price.ipynb",
      "provenance": [],
      "include_colab_link": true
    },
    "kernelspec": {
      "name": "python3",
      "display_name": "Python 3"
    },
    "language_info": {
      "name": "python"
    }
  },
  "cells": [
    {
      "cell_type": "markdown",
      "metadata": {
        "id": "view-in-github",
        "colab_type": "text"
      },
      "source": [
        "<a href=\"https://colab.research.google.com/github/ThanShwePrue1/than-shwe-prue1/blob/main/sale_price.ipynb\" target=\"_parent\"><img src=\"https://colab.research.google.com/assets/colab-badge.svg\" alt=\"Open In Colab\"/></a>"
      ]
    },
    {
      "cell_type": "markdown",
      "metadata": {
        "id": "cgTeiXOtSPjH"
      },
      "source": [
        "# Sales Price\n",
        "\n",
        "A local department store needs to develop a program that will computer the total price (including goods and services tax) of the item on sale when given an item's original price and discount percentage.\n",
        "\n",
        "## Tasks\n",
        "* Save to Github\n",
        "* Design Algorithm\n",
        "* Write and test the program in Python"
      ]
    },
    {
      "cell_type": "code",
      "metadata": {
        "id": "pPIN2ZcrSqdw"
      },
      "source": [
        "def calculate_total_price(orginal_price, discount_percentage, tax_rate):\n",
        "  discount_amount = original_price * (discount_percentage / 100)\n",
        "  discounted_price = original_price - discount_amount\n",
        "  tax_amount = discounted_price * (tax_rate / 100)\n",
        "  total_price = discounted_price + tax_amount\n",
        "  return total_price\n",
        "\n",
        "  def main():\n",
        "    original_price = float(input(\"Enter the original price of the item:\"))\n",
        "    discount_percentage = float(input(\"Enter the discount percentage: \"))\n",
        "    tax_rate = float(input(\"Enter the tax rate (in percentage): \"))\n",
        "\n",
        "    total_price = calculate_total-price(original_price, discount_percentage, tax_rate)\n",
        "\n",
        "    print(\"Total price (including tax) after discount: $\")"
      ],
      "execution_count": null,
      "outputs": []
    }
  ]
}