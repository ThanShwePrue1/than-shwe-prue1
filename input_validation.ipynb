{
  "cells": [
    {
      "cell_type": "markdown",
      "metadata": {
        "id": "view-in-github",
        "colab_type": "text"
      },
      "source": [
        "<a href=\"https://colab.research.google.com/github/ThanShwePrue1/than-shwe-prue1/blob/main/input_validation.ipynb\" target=\"_parent\"><img src=\"https://colab.research.google.com/assets/colab-badge.svg\" alt=\"Open In Colab\"/></a>"
      ]
    },
    {
      "cell_type": "markdown",
      "id": "b5835b0c",
      "metadata": {
        "id": "b5835b0c"
      },
      "source": [
        "# Input Validation\n",
        "\n",
        "Input validation code verifies that user supplied data, such as text from the input() function, is formatted appropriately.\n",
        "\n",
        "* try/except\n",
        "* isdigit()\n",
        "* pyinputplus\n",
        "\n",
        "## try/except"
      ]
    },
    {
      "cell_type": "code",
      "execution_count": null,
      "id": "695b1f5f",
      "metadata": {
        "id": "695b1f5f",
        "colab": {
          "base_uri": "https://localhost:8080/"
        },
        "outputId": "bfd4fa19-391d-4571-c3ef-d168fd1cd84e"
      },
      "outputs": [
        {
          "output_type": "stream",
          "name": "stdout",
          "text": [
            "How old are you? ten\n",
            "Please enter a whole number\n",
            "How old are you? 10\n",
            "Your age is: 10\n"
          ]
        }
      ],
      "source": [
        "while True:\n",
        "  try:\n",
        "    age = int(input('How old are you? '))\n",
        "    break\n",
        "  except ValueError:\n",
        "    print('Please enter a whole number')\n",
        "\n",
        "print('Your age is: ' + str(age))"
      ]
    },
    {
      "cell_type": "code",
      "source": [],
      "metadata": {
        "id": "cQvBN7bFfB5k"
      },
      "id": "cQvBN7bFfB5k",
      "execution_count": null,
      "outputs": []
    },
    {
      "cell_type": "markdown",
      "id": "acc7252b",
      "metadata": {
        "id": "acc7252b"
      },
      "source": [
        "## isdigit()"
      ]
    },
    {
      "cell_type": "code",
      "execution_count": 6,
      "id": "5f98c241",
      "metadata": {
        "id": "5f98c241",
        "colab": {
          "base_uri": "https://localhost:8080/"
        },
        "outputId": "2e637a99-e688-4ad6-9790-b6d58ef4e5b0"
      },
      "outputs": [
        {
          "output_type": "stream",
          "name": "stdout",
          "text": [
            "How old are you? 10\n",
            "You are 10\n"
          ]
        }
      ],
      "source": [
        "while True:\n",
        "  age = input('How old are you? ')\n",
        "  if age.isdigit():\n",
        "    break\n",
        "  else:\n",
        "    print('You must enter a valid number')\n",
        "\n",
        "print('You are ' + str(age))"
      ]
    },
    {
      "cell_type": "markdown",
      "id": "18c00dc3",
      "metadata": {
        "id": "18c00dc3"
      },
      "source": [
        "## Module: pyinputs"
      ]
    },
    {
      "cell_type": "code",
      "execution_count": 3,
      "id": "dfe1740b",
      "metadata": {
        "id": "dfe1740b",
        "colab": {
          "base_uri": "https://localhost:8080/"
        },
        "outputId": "de5e4131-40f0-420a-91cf-d6159a2ee30a"
      },
      "outputs": [
        {
          "output_type": "stream",
          "name": "stdout",
          "text": [
            "Requirement already satisfied: PyInputPlus in /usr/local/lib/python3.10/dist-packages (0.2.12)\n",
            "Requirement already satisfied: pysimplevalidate>=0.2.7 in /usr/local/lib/python3.10/dist-packages (from PyInputPlus) (0.2.12)\n",
            "Requirement already satisfied: stdiomask>=0.0.3 in /usr/local/lib/python3.10/dist-packages (from PyInputPlus) (0.0.6)\n"
          ]
        }
      ],
      "source": [
        "!pip install PyInputPlus"
      ]
    },
    {
      "cell_type": "code",
      "source": [
        "import pyinputplus as pyip\n",
        "\n",
        "response = pyip.inputNum(\"How old are you?\")\n",
        "\n",
        "print(f'You are {age} years old')"
      ],
      "metadata": {
        "id": "OvqPitIkh379",
        "colab": {
          "base_uri": "https://localhost:8080/"
        },
        "outputId": "abcca3c8-17de-4efe-d401-1b55fca4022a"
      },
      "id": "OvqPitIkh379",
      "execution_count": 7,
      "outputs": [
        {
          "output_type": "stream",
          "name": "stdout",
          "text": [
            "How old are you?10\n",
            "You are 10 years old\n"
          ]
        }
      ]
    },
    {
      "cell_type": "code",
      "source": [
        "dir(pyip)\n"
      ],
      "metadata": {
        "id": "BSY3chdWieP1",
        "colab": {
          "base_uri": "https://localhost:8080/"
        },
        "outputId": "673dddfb-3d59-4962-a6b3-a2bf54382cd5"
      },
      "id": "BSY3chdWieP1",
      "execution_count": null,
      "outputs": [
        {
          "output_type": "execute_result",
          "data": {
            "text/plain": [
              "['Any',\n",
              " 'Callable',\n",
              " 'Optional',\n",
              " 'Pattern',\n",
              " 'PyInputPlusException',\n",
              " 'RetryLimitException',\n",
              " 'Sequence',\n",
              " 'TimeoutException',\n",
              " 'Union',\n",
              " 'ValidationException',\n",
              " '__builtins__',\n",
              " '__cached__',\n",
              " '__doc__',\n",
              " '__file__',\n",
              " '__loader__',\n",
              " '__name__',\n",
              " '__package__',\n",
              " '__path__',\n",
              " '__spec__',\n",
              " '__version__',\n",
              " '_checkLimitAndTimeout',\n",
              " '_genericInput',\n",
              " 'absolute_import',\n",
              " 'division',\n",
              " 'functionName',\n",
              " 'inputAddress',\n",
              " 'inputBool',\n",
              " 'inputChoice',\n",
              " 'inputCustom',\n",
              " 'inputDate',\n",
              " 'inputDatetime',\n",
              " 'inputDayOfMonth',\n",
              " 'inputDayOfWeek',\n",
              " 'inputEmail',\n",
              " 'inputFilename',\n",
              " 'inputFilepath',\n",
              " 'inputFloat',\n",
              " 'inputIP',\n",
              " 'inputInt',\n",
              " 'inputMenu',\n",
              " 'inputMonth',\n",
              " 'inputName',\n",
              " 'inputNum',\n",
              " 'inputPassword',\n",
              " 'inputPhone',\n",
              " 'inputRegex',\n",
              " 'inputRegexStr',\n",
              " 'inputStr',\n",
              " 'inputTime',\n",
              " 'inputURL',\n",
              " 'inputUSState',\n",
              " 'inputYesNo',\n",
              " 'inputZip',\n",
              " 'parameters',\n",
              " 'print_function',\n",
              " 'pysv',\n",
              " 'stdiomask',\n",
              " 'time',\n",
              " 'validateAddress',\n",
              " 'validateBool',\n",
              " 'validateChoice',\n",
              " 'validateDate',\n",
              " 'validateDatetime',\n",
              " 'validateDayOfMonth',\n",
              " 'validateDayOfWeek',\n",
              " 'validateEmail',\n",
              " 'validateFilename',\n",
              " 'validateFilepath',\n",
              " 'validateFloat',\n",
              " 'validateIP',\n",
              " 'validateIPv4',\n",
              " 'validateIPv6',\n",
              " 'validateInt',\n",
              " 'validateMonth',\n",
              " 'validateName',\n",
              " 'validateNum',\n",
              " 'validatePhone',\n",
              " 'validateRegex',\n",
              " 'validateRegexStr',\n",
              " 'validateStr',\n",
              " 'validateTime',\n",
              " 'validateURL',\n",
              " 'validateUSState',\n",
              " 'validateYesNo']"
            ]
          },
          "metadata": {},
          "execution_count": 6
        }
      ]
    },
    {
      "cell_type": "code",
      "source": [],
      "metadata": {
        "id": "g-Rz50i2SxQ2"
      },
      "id": "g-Rz50i2SxQ2",
      "execution_count": null,
      "outputs": []
    }
  ],
  "metadata": {
    "kernelspec": {
      "display_name": "Python 3 (ipykernel)",
      "language": "python",
      "name": "python3"
    },
    "language_info": {
      "codemirror_mode": {
        "name": "ipython",
        "version": 3
      },
      "file_extension": ".py",
      "mimetype": "text/x-python",
      "name": "python",
      "nbconvert_exporter": "python",
      "pygments_lexer": "ipython3",
      "version": "3.9.6"
    },
    "colab": {
      "name": "input_validation.ipynb",
      "provenance": [],
      "include_colab_link": true
    }
  },
  "nbformat": 4,
  "nbformat_minor": 5
}